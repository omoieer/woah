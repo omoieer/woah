{
  "cells": [
    {
      "cell_type": "code",
      "execution_count": null,
      "metadata": {
        "id": "SaAJk33ppFw1"
      },
      "outputs": [],
      "source": [
        "import sys\n",
        "import os\n",
        "import base64\n",
        "\n",
        "w = base64.b64decode((\"d2VidWk=\").encode('ascii')).decode('ascii')\n",
        "sdw = base64.b64decode((\"c3RhYmxlLWRpZmZ1c2lvbi13ZWJ1aQ==\").encode('ascii')).decode('ascii')\n",
        "any = base64.b64decode((\"YW55dGhpbmc=\").encode('ascii')).decode('ascii')\n",
        "%cd /content\n",
        "\n",
        "%env TF_CPP_MIN_LOG_LEVEL=1\n",
        "\n",
        "!apt -y update -qq\n",
        "!wget http://launchpadlibrarian.net/367274644/libgoogle-perftools-dev_2.5-2.2ubuntu3_amd64.deb\n",
        "!wget https://launchpad.net/ubuntu/+source/google-perftools/2.5-2.2ubuntu3/+build/14795286/+files/google-perftools_2.5-2.2ubuntu3_all.deb\n",
        "!wget https://launchpad.net/ubuntu/+source/google-perftools/2.5-2.2ubuntu3/+build/14795286/+files/libtcmalloc-minimal4_2.5-2.2ubuntu3_amd64.deb\n",
        "!wget https://launchpad.net/ubuntu/+source/google-perftools/2.5-2.2ubuntu3/+build/14795286/+files/libgoogle-perftools4_2.5-2.2ubuntu3_amd64.deb\n",
        "!apt install -qq libunwind8-dev\n",
        "!dpkg -i *.deb\n",
        "%env LD_PRELOAD=libtcmalloc.so\n",
        "!rm *.deb\n",
        "!git clone https://github.com/anapnoe/$sdw\n",
        "!apt -y install -qq aria2\n",
        "!pip install -q torch==1.13.1+cu116 torchvision==0.14.1+cu116 torchaudio==0.13.1 torchtext==0.14.1 torchdata==0.5.1 --extra-index-url https://download.pytorch.org/whl/cu116 -U\n",
        "!pip install -q xformers==0.0.16 triton==2.0.0 -U\n",
        "!mkdir -p /content/$sdw/models/Stable-diffusion /content/$sdw/models/hypernetworks\n",
        "!aria2c -d /content/$sdw https://cloudflare-ipfs.com/ipfs/bafybeiav3j7npiuewbel3mi32l3sidgkw54kuleosbhxmdvddbnvtfi7yu/config.yaml\n",
        "#!aria2c https://pub-2fdef7a2969f43289c42ac5ae3412fd4.r2.dev/animefull-latest.ckpt\n",
        "\n",
        "# Install embeddings (optional)\n",
        "!aria2c https://cloudflare-ipfs.com/ipfs/bafybeie3hdjchxs5tz4n75bos53nhcklslguxchdurc2ynrzcfv2kwyklu/embeddings.tar\n",
        "!tar xvf embeddings.tar -C /content/$sdw/embeddings && rm -rf embeddings.tar\n",
        "\n",
        "# Install VAE Weights (optional)\n",
        "!aria2c -o animefull-final-pruned.vae.pt https://cloudflare-ipfs.com/ipfs/bafybeiccldswdd3wvg57jhclcq53lvsc6gizasiblwayvhlv6eq4wow7wu/animevae.pt\n",
        "!ln -s animefull-final-pruned.vae.pt animefull-final-latest.vae.pt\n",
        "\n",
        "# Install hypernetwork （optional)\n",
        "!aria2c https://cloudflare-ipfs.com/ipfs/bafybeiduanx2b3mcvxlwr66igcwnpfmk3nc3qgxlpwh6oq6m6pxii3f77e/_modules.tar\n",
        "!tar xvf _modules.tar -C /content/$sdw/models/hypernetworks && rm -rf _modules.tar\n",
        "!aria2c -d /content/$sdw/models/Lora -o OMORI.safetensors https://files.catbox.moe/tsf7qb.safetensors\n",
        "!aria2c -d /content/$sdw/models/Lora -o SUNNY.safetensors https://files.catbox.moe/t53r5k.safetensors\n",
        "!aria2c -d /content/$sdw/models/Lora -o BASIL.safetensors https://files.catbox.moe/x72odp.safetensors\n",
        "!aria2c -d /content/$sdw/models/Lora -o MARI.safetensors https://files.catbox.moe/chtfpi.safetensors\n",
        "!aria2c -d /content/$sdw/models/Lora -o AUBREY.safetensors https://files.catbox.moe/cz855o.safetensors\n",
        "!aria2c -d /content/$sdw/models/Lora -o KEL.safetensors https://files.catbox.moe/oflf3d.safetensors\n",
        "!aria2c -d /content/$sdw/models/Lora -o HERO.safetensors https://files.catbox.moe/4o0ipi.safetensors\n",
        "!aria2c -d /content/$sdw/models/Lora -o SWEETHEART.safetensors https://files.catbox.moe/mlc6sy.safetensors\n",
        "!aria2c -d /content/$sdw/models/Lora -o OmocatArtStyle.safetensors https://files.catbox.moe/w3b474.safetensors\n",
        "%cd /content/$sdw/extensions\n",
        "!git clone https://github.com/DominikDoom/a1111-sd-$w-tagcomplete\n",
        "!git clone https://github.com/etherealxx/batchlinks-$w\n",
        "!git clone https://github.com/Mikubill/sd-$w-controlnet\n",
        "!git clone https://github.com/hnmr293/posex\n",
        "!git clone https://github.com/KohakuBlueleaf/LyCORIS\n",
        "!git clone https://github.com/Penismusic12/a1111-sd-$w-locon\n",
        "!git clone https://github.com/jexom/sd-$w-depth-lib\n",
        "!aria2c -d /content/$sdw/extensions/sd-$w-controlnet/models -o control_openpose-fp16.safetensors https://huggingface.co/$w/ControlNet-modules-safetensors/resolve/main/control_openpose-fp16.safetensors\n",
        "!aria2c -d /content/$sdw/extensions/sd-$w-controlnet/models -o control_scribble-fp16.safetensors https://huggingface.co/$w/ControlNet-modules-safetensors/resolve/main/control_scribble-fp16.safetensors\n",
        "!aria2c -d /content/$sdw/extensions/sd-$w-controlnet/models -o control_depth-fp16.safetensors https://huggingface.co/$w/ControlNet-modules-safetensors/resolve/main/control_depth-fp16.safetensors\n",
        "!aria2c -d /content/$sdw/scripts -o lora_block_weight.py https://raw.githubusercontent.com/hako-mikan/sd-$w-lora-block-weight/main/scripts/lora_block_weight.py\n",
        "!git clone -b v1.9 https://github.com/camenduru/sd-$w-tunnels /content/$sdw/extensions/sd-$w-tunnels\n",
        "!aria2c -d /content/$sdw -o config.json https://huggingface.co/feelinrealcute/sd-$w-defaultsettingsarchive/resolve/main/config.json\n",
        "!aria2c -d /content/$sdw -o ui-config.json https://huggingface.co/feelinrealcute/sd-$w-defaultsettingsarchive/resolve/main/ui-config.json\n",
        "%cd /content/$sdw\n",
        "!git reset --hard\n",
        "\n",
        "# !aria2c --console-log-level=error -c -x 16 -s 16 -k 1M https://huggingface.co/ckpt/anything-v4.0/resolve/main/anything-v4.0-pruned.ckpt -d /content/$sdw/models/Stable-diffusion -o anything-v4.0-pruned.ckpt\n",
        "!aria2c -d /content/$sdw/models/Stable-diffusion/ -o anything-v4.0.ckpt https://huggingface.co/xyn-ai/anything-v4.0/resolve/main/anything-v4.0.ckpt\n",
        "!aria2c -d /content/$sdw/models/Stable-diffusion/ -o anything-v4.0.vae.pt https://huggingface.co/xyn-ai/anything-v4.0/resolve/main/anything-v4.0.vae.pt\n",
        "\n",
        "!sed -i -e '''/    prepare_environment()/a\\    os.system\\(f\\\"\"\"sed -i -e ''\\\"s/dict()))/dict())).cuda()/g\\\"'' /content/$sdw/repositories/stable-diffusion-stability-ai/ldm/util.py\"\"\")''' /content/$sdw/launch.py\n",
        "!sed -i -e 's/fastapi==0.90.1/fastapi==0.89.1/g' /content/$sdw/requirements_versions.txt\n",
        "\n",
        "!mkdir /content/$sdw/extensions/deforum-for-automatic1111-$w/models\n",
        "\n",
        "!sed -i -e 's/\\\"sd_model_checkpoint\\\"\\,/\\\"sd_model_checkpoint\\,sd_vae\\,CLIP_stop_at_last_layers\\\"\\,/g' /content/$sdw/modules/shared.py\n"
      ]
    },
    {
      "cell_type": "code",
      "source": [
        "!curl ipv4.icanhazip.com\n",
        "!wget -q -O - ipv4.icanhazip.com\n",
        "!COMMANDLINE_ARGS=\"--listen --gradio-debug --config config.yaml --disable-safe-unpickle --gradio-auth balls:balls,undefeatable:sonic --xformers --gradio-queue --multiple\" REQS_FILE=\"requirements.txt\" python launch.py"
      ],
      "metadata": {
        "id": "0Qi4qIa2ScPR"
      },
      "execution_count": null,
      "outputs": []
    }
  ],
  "metadata": {
    "accelerator": "GPU",
    "colab": {
      "private_outputs": true,
      "provenance": [],
      "gpuType": "T4"
    },
    "gpuClass": "standard",
    "kernelspec": {
      "display_name": "Python 3",
      "name": "python3"
    },
    "language_info": {
      "name": "python"
    }
  },
  "nbformat": 4,
  "nbformat_minor": 0
}
