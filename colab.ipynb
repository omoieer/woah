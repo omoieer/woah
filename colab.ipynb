{
  "metadata": {
    "kernelspec": {
      "language": "python",
      "display_name": "Python 3",
      "name": "python3"
    },
    "language_info": {
      "name": "python",
      "version": "3.7.12",
      "mimetype": "text/x-python",
      "codemirror_mode": {
        "name": "ipython",
        "version": 3
      },
      "pygments_lexer": "ipython3",
      "nbconvert_exporter": "python",
      "file_extension": ".py"
    },
    "colab": {
      "provenance": []
    },
    "accelerator": "GPU",
    "gpuClass": "standard"
  },
  "nbformat_minor": 0,
  "nbformat": 4,
  "cells": [
    {
      "cell_type": "markdown",
      "source": [
        "# #This Notebook is for NovelAI with Stable-Diffusion version and 7G animefull-final-latest model used."
      ],
      "metadata": {
        "id": "y4LMKLmzzeGm"
      }
    },
    {
      "cell_type": "code",
      "source": [
        "#Test GPU 测试GPU\n",
        "!nvidia-smi\n",
        "\n",
        "#Download SD-WebUi 下载SD-WebUi\n",
        "%cd /content/\n",
        "!pip install --upgrade fastapi==0.90.1\n",
        "!git clone https://github.com/anapnoe/stable-diffusion-webui\n",
        "    \n",
        "#Make folder for models  新建模型目录\n",
        "!mkdir -p /content/stable-diffusion-webui/models/Stable-diffusion /content/stable-diffusion-webui/models/hypernetworks \n",
        "%cd /content/stable-diffusion-webui/models/Stable-diffusion\n",
        "#xformers\n",
        "# install xformers\n"
      ],
      "metadata": {
        "trusted": true,
        "id": "y_14mmrczeGv"
      },
      "execution_count": null,
      "outputs": []
    },
    {
      "cell_type": "code",
      "source": [
        "#Select the model you like根据喜好选择模型\n",
        "#Remove the # signal before the code if you want to run the model, and add the # symbol before the other\n",
        "#在你想要使用的模型对应的代码前去掉#，其他模型的对应代码前加上#\n",
        "\n",
        "#Model 1 (default) ： 7g animefull-final-latest\n",
        "# 二次元和写实风兼有\n",
        "#!cp -r /kaggle/input/animefulllatestckpt/animefull-latest.ckpt /content/stable-diffusion-webui/models/Stable-diffusion/animefull-final-latest.ckpt\n",
        "#!cp -r /kaggle/input/animefulllatestckpt/animefull-latest.vae.pt /content/stable-diffusion-webui/models/Stable-diffusion/animefull-final-latest.vae.pt\n",
        "\n",
        "#Model 2: 4g animefull-final-pruned\n",
        "# 二次元风格\n",
        "#!cp -r /kaggle/input/nai-pruned/animefull-final-pruned.ckpt /content/stable-diffusion-webui/models/Stable-diffusion/animefull-final-pruned.ckpt\n",
        "\n",
        "#Model 3: 7g stable-diffusion-1.5\n",
        "#写实风\n",
        "#!cp -r /kaggle/input/stable-diffusion-1-5/v1-5-pruned.ckpt /content/stable-diffusion-webui/models/Stable-diffusion/sd15-pruned.ckpt\n",
        "\n",
        "#Model 4:7g Anything-v3.0\n",
        "#Novel AI最新模型\n",
        "#!cp -r /kaggle/input/anythingv3/Anything-V3.0.ckpt /content/stable-diffusion-webui/models/Stable-diffusion/Anything-V3.0.ckpt\n",
        "#!cp -r /kaggle/input/anythingv3/Anything-V3.0.vae.pt /content/stable-diffusion-webui/models/Stable-diffusion/Anything-V3.0.vae.pt\n",
        "\n",
        "#Model 5:stable diffusion 1.5 inpainting\n",
        "#专用于inpaint的模型\n",
        "#!cp -r /kaggle/input/inpainting/sd-v1-5-inpainting.ckpt /content/stable-diffusion-webui/models/Stable-diffusion/sd-v1-5-inpainting.ckpt\n",
        "\n",
        "#Model 5:7g momoko-Anything-v3.0\n",
        "#看标题像momoko，哪位大哥测试一下效果？\n",
        "#!git clone https://huggingface.co/xiaolxl/Stable-diffusion-models/blob/main/momoko-e.ckpt /content/stable-diffusion-webui/models/Stable-diffusion/momoko-any3.0.ckpt\n",
        "\n",
        "#Model 6: NovelAI-Pruned\n",
        "#!cp -r /kaggle/input/nai-pruned/animefull-final-pruned.ckpt /content/stable-diffusion-webui/models/Stable-diffusion/animefull-final-pruned.ckpt\n",
        "#!cp -r /kaggle/input/nai-pruned/animevae.pt /content/stable-diffusion-webui/models/Stable-diffusion/animevae.pt\n",
        "\n",
        "#Model 7: Stable Diffusion 2\n",
        "#!cp -r /kaggle/input/stable-diffusion2-768/768-v-ema.ckpt /content/stable-diffusion-webui/models/Stable-diffusion/768-v-ema.ckpt\n",
        "#!cp -r /kaggle/input/stable-diffusion2-768/768-v-ema.yaml /content/stable-diffusion-webui/models/Stable-diffusion/768-v-ema.yaml"
      ],
      "metadata": {
        "trusted": true,
        "id": "QYe3OlIXzeGy"
      },
      "execution_count": null,
      "outputs": []
    },
    {
      "cell_type": "code",
      "source": [
        "!apt-get update\n",
        "!apt -y install -qq aria2\n",
        "# Models\n",
        "#momoko\n",
        "#!aria2c -d /content/stable-diffusion-webui/models/Stable-diffusion/ -o momoko-any3.0.ckpt https://huggingface.co/manter/momoko/resolve/main/momoko-any3.0.ckpt\n",
        "#!aria2c -d /content/stable-diffusion-webui/models/Stable-diffusion/ -o momoko-any3.0.vae.pt https://huggingface.co/manter/momoko/resolve/main/momoko-any3.0.vae.pt\n",
        "#anything v4\n",
        "!aria2c -d /content/stable-diffusion-webui/models/Stable-diffusion/ -o anything-v4.0.ckpt https://huggingface.co/andite/anything-v4.0/resolve/main/anything-v4.0.ckpt\n",
        "!aria2c -d /content/stable-diffusion-webui/models/Stable-diffusion/ -o anything-v4.0.vae.pt https://huggingface.co/andite/anything-v4.0/resolve/main/anything-v4.0.vae.pt\n",
        "#!aria2c -d /content/stable-diffusion-webui/models/Stable-diffusion/ -o momoko-e.ckpt https://huggingface.co/ouo/momoko/resolve/main/momoko-e.ckpt\n",
        "#!aria2c -d /content/stable-diffusion-webui/models/Stable-diffusion/ -o momoko-p.ckpt https://huggingface.co/ouo/momoko/resolve/main/momoko-p.ckpt\n",
        "# 7G animefull-final-latest (optional)\n",
        "!aria2c -d /content/stable-diffusion-webui https://cloudflare-ipfs.com/ipfs/bafybeiav3j7npiuewbel3mi32l3sidgkw54kuleosbhxmdvddbnvtfi7yu/config.yaml\n",
        "#!aria2c https://pub-2fdef7a2969f43289c42ac5ae3412fd4.r2.dev/animefull-latest.ckpt\n",
        "\n",
        "# Install embeddings (optional)\n",
        "!aria2c https://cloudflare-ipfs.com/ipfs/bafybeie3hdjchxs5tz4n75bos53nhcklslguxchdurc2ynrzcfv2kwyklu/embeddings.tar\n",
        "!tar xvf embeddings.tar -C /content/stable-diffusion-webui/embeddings && rm -rf embeddings.tar\n",
        "\n",
        "# Install VAE Weights (optional)\n",
        "!aria2c -o animefull-final-pruned.vae.pt https://cloudflare-ipfs.com/ipfs/bafybeiccldswdd3wvg57jhclcq53lvsc6gizasiblwayvhlv6eq4wow7wu/animevae.pt \n",
        "!ln -s animefull-final-pruned.vae.pt animefull-final-latest.vae.pt\n",
        "\n",
        "# Install hypernetwork （optional)\n",
        "!aria2c https://cloudflare-ipfs.com/ipfs/bafybeiduanx2b3mcvxlwr66igcwnpfmk3nc3qgxlpwh6oq6m6pxii3f77e/_modules.tar  \n",
        "!tar xvf _modules.tar -C /content/stable-diffusion-webui/models/hypernetworks && rm -rf _modules.tar"
      ],
      "metadata": {
        "trusted": true,
        "id": "pP6X2AfhzeG1"
      },
      "execution_count": null,
      "outputs": []
    },
    {
      "cell_type": "code",
      "source": [
        "#复制训练好的模型copy the pt file to embeddings\n",
        "#!aria2c -d /content/stable-diffusion-webui/embeddings/ -o anime.pt https://www.kaggleusercontent.com/kf/112380629/eyJhbGciOiJkaXIiLCJlbmMiOiJBMTI4Q0JDLUhTMjU2In0..Gl-THXYN1zz-s2B80RBO1w.ulRuMQ6sVHOdgbSrK-V_wDWE6CrlHRiqr-YPrtEGTKmNwmvVFTWB1iguPbyt3-CfkfH_jVN7cFmn1LFn4FlKC75r9YfQR2O7ehCNomx_DYBsSRc9MVt2Qn31ceHnoi-a1f4TuDdRzcnblaNMIuuoCybK1Yi9FuUmm97ZtNbJque-r8AUKtOQmuDBgsXqLdQwX16oixD7xt4XRLB2Mns3GcxE0y5GrdCLGIJdDI7TxoV9JGa1j-64UTw0FcX0mUEIDtoxUNZJhYsa_BEJQzmNxbANfoeEGuBED8SkKQ2T6wQwWcC3t7Rj6pxOxUbO-W9hazYyaGQ-8CJ-DMEITyVghavpItVIp4Bduld5zriYRSU4We6fbGcfKXx2MT1JQHsYgVm9cboGusgzqtiJ8_SlHw69ciuMBtkwtaWDEi9twQcIfyF1D_-U0MHq-MaedGE6vqqDHsmrU64hr_swXlfTyl6cSz61m5_A8ok_mRChJl9K5tkgpa4REMImH-fgaTVKrcBdeK_GfqN2Fdd0I5Ut7UPEzTATi-rGWbhAcv7A1pY466zscu73AdE0RTkXlq3HRQRk1KeyMCMqUrFvyNi7W2clVuGIBv0muAbOub-7BTUk5uNHE7I8UrqIHYytlLM0UZOb5yFNHJEaHGQuwK7IiZEqUY-JbUXx_bAgrR7mGmRP3otmhXML7CHoWChahYFH.vNp_i_RMYeQtbOKhQHyR0Q/stable-diffusion-webui/embeddings/anime.pt\n",
        "#OMORI LoRas\n",
        "!aria2c -d /content/stable-diffusion-webui/models/Lora -o OMORI.safetensors https://files.catbox.moe/tsf7qb.safetensors\n",
        "!aria2c -d /content/stable-diffusion-webui/models/Lora -o SUNNY.safetensors https://files.catbox.moe/t53r5k.safetensors\n",
        "!aria2c -d /content/stable-diffusion-webui/models/Lora -o BASIL.safetensors https://files.catbox.moe/x72odp.safetensors\n",
        "!aria2c -d /content/stable-diffusion-webui/models/Lora -o MARI.safetensors https://files.catbox.moe/chtfpi.safetensors\n",
        "!aria2c -d /content/stable-diffusion-webui/models/Lora -o AUBREY.safetensors https://files.catbox.moe/cz855o.safetensors\n",
        "!aria2c -d /content/stable-diffusion-webui/models/Lora -o KEL.safetensors https://files.catbox.moe/oflf3d.safetensors\n",
        "!aria2c -d /content/stable-diffusion-webui/models/Lora -o HERO.safetensors https://files.catbox.moe/4o0ipi.safetensors\n",
        "!aria2c -d /content/stable-diffusion-webui/models/Lora -o SWEETHEART.safetensors https://files.catbox.moe/mlc6sy.safetensors\n",
        "!aria2c -d /content/stable-diffusion-webui/models/Lora -o OmocatArtStyle.safetensors https://files.catbox.moe/w3b474.safetensors\n",
        "#!conda install -y gdown\n",
        "#!gdown --id 1x73fcY9MrnYb09WhrGRUj4TCyptiJKFR -O /content/stable-diffusion-webui/models/Stable-diffusion\n",
        "#!gdown --id 1-153WqjpFTONIvsOmMPBtS51KnLgrGQV -O /content/stable-diffusion-webui/models/Stable-diffusion\n",
        "#训练备用：\n",
        "#新建用于存放预处理图片的文件夹 create a folder to save the preprocessed data\n",
        "!mkdir -p /content/preprocessed"
      ],
      "metadata": {
        "trusted": true,
        "id": "HHZjn_q8zeG2"
      },
      "execution_count": null,
      "outputs": []
    },
    {
      "cell_type": "code",
      "source": [
        "#%cd /content/stable-diffusion-webui\n",
        "#!git clone \"https://github.com/DominikDoom/a1111-sd-webui-tagcomplete.git\" extensions/tag-autocomplete\n",
        "#!git clone https://github.com/d8ahazard/sd_dreambooth_extension extensions/dreambooth"
      ],
      "metadata": {
        "trusted": true,
        "id": "Blqeaqi7zeG4"
      },
      "execution_count": null,
      "outputs": []
    },
    {
      "cell_type": "code",
      "source": [
        "#%cd /content/stable-diffusion-webui\n",
        "#!git clone https://github.com/KichangKim/DeepDanbooru"
      ],
      "metadata": {
        "trusted": true,
        "id": "Kau40otfzeG5"
      },
      "execution_count": null,
      "outputs": []
    },
    {
      "cell_type": "code",
      "source": [
        "#os.listdir('/content/stable-diffusion-webui/DeepDanbooru')\n",
        "#%cd /content/stable-diffusion-webui/DeepDanbooru\n",
        "#!pip install -r requirements.txt"
      ],
      "metadata": {
        "trusted": true,
        "id": "7VClTco2zeG6"
      },
      "execution_count": null,
      "outputs": []
    },
    {
      "cell_type": "code",
      "source": [
        "%cd /content/stable-diffusion-webui/extensions\n",
        "!git clone https://github.com/DominikDoom/a1111-sd-webui-tagcomplete\n",
        "!git clone https://github.com/etherealxx/batchlinks-webui\n"
      ],
      "metadata": {
        "trusted": true,
        "id": "vNpZJ822zeG7"
      },
      "execution_count": null,
      "outputs": []
    },
    {
      "cell_type": "code",
      "source": [
        "!aria2c -d /content/stable-diffusion-webui -o config.json https://huggingface.co/feelinrealcute/sd-webui-defaultsettingsarchive/resolve/main/config.json\n",
        "!aria2c -d /content/stable-diffusion-webui -o ui-config.json https://huggingface.co/feelinrealcute/sd-webui-defaultsettingsarchive/resolve/main/ui-config.json\n",
        "#!cp -r /kaggle/input/sd-webui-defaultsettings/config.json /content/stable-diffusion-webui/config.json\n",
        "#!cp -r /kaggle/input/sd-webui-defaultsettings/ui-config.json /content/stable-diffusion-webui/ui-config.json\n",
        "#!cp -r /kaggle/input/stylefile/styles.csv /content/stable-diffusion-webui/styles.csv"
      ],
      "metadata": {
        "trusted": true,
        "id": "3zoMxjZ2zeG8"
      },
      "execution_count": null,
      "outputs": []
    },
    {
      "cell_type": "code",
      "source": [
        "%cd /content/stable-diffusion-webui\n",
        "%pip install -q https://github.com/nolanaatama/sd-webui/releases/download/xformers/xformers-0.0.15+e163309.d20230103-cp38-cp38-linux_x86_64.whl\n",
        "# hacks to load model in kaggle\n",
        "#!sed -i 's/map_location=\"cpu\"/map_location=\"cuda\"/g' /content/stable-diffusion-webui/modules/sd_models.py\n",
        "!sed -i 's/else \"cpu\"/else devices.get_optimal_device()/g' modules/shared.py\n",
        "!sed -i \"s/'cpu'/devices.get_optimal_device()/g\" modules/extras.py"
      ],
      "metadata": {
        "trusted": true,
        "id": "yb-NNxMMzeG9"
      },
      "execution_count": null,
      "outputs": []
    },
    {
      "cell_type": "code",
      "source": [
        "#  use normal stable-diffusion\n",
        "!COMMANDLINE_ARGS=\"--share --gradio-debug --config config.yaml --disable-safe-unpickle --gradio-auth balls:balls,undefeatable:sonic --xformers --gradio-queue\" REQS_FILE=\"requirements.txt\" python launch.py"
      ],
      "metadata": {
        "id": "WAdUUDTazeG-"
      },
      "execution_count": null,
      "outputs": []
    },
    {
      "cell_type": "markdown",
      "source": [
        "# ******negative prompt: lowres, bad anatomy, bad hands, text, error, missing fingers, extra digit, fewer digits, cropped, worst quality, low quality, normal quality, jpeg artifacts, signature, watermark, username, blurry, bad feet**"
      ],
      "metadata": {
        "id": "AQ1jsVNDzeG_"
      }
    }
  ]
}